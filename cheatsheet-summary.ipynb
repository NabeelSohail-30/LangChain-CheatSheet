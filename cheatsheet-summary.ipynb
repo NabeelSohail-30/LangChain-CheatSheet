{
 "cells": [
  {
   "cell_type": "markdown",
   "id": "2f86c1bc",
   "metadata": {},
   "source": [
    "**Conversation agent Cheat Sheet**:\n",
    "\n",
    "1. Import the necessary components, define the tools to be used, initialize the memory, initialize the agent, and run the agent with user inputs to get conversational responses."
   ]
  },
  {
   "cell_type": "code",
   "execution_count": null,
   "id": "43ec111a",
   "metadata": {},
   "outputs": [],
   "source": [
    "from langchain.agents import Tool, initialize_agent\n",
    "from langchain.memory import ConversationBufferMemory\n",
    "from langchain.chat_models import ChatOpenAI\n",
    "from langchain.utilities import SerpAPIWrapper\n",
    "\n",
    "search = SerpAPIWrapper()\n",
    "tools = [\n",
    "    Tool(\n",
    "        name=\"Current Search\",\n",
    "        func=search.run,\n",
    "        description=\"useful for when you need to answer questions about current events or the current state of the world.\"\n",
    "    ),\n",
    "]\n",
    "\n",
    "memory = ConversationBufferMemory(memory_key=\"chat_history\", return_messages=True)\n",
    "llm = ChatOpenAI(temperature=0)\n",
    "agent_chain = initialize_agent(tools, llm, agent=\"chat-conversational-react-description\", verbose=True, memory=memory)"
   ]
  },
  {
   "cell_type": "markdown",
   "id": "7004c4d5",
   "metadata": {},
   "source": [
    "**OpenAPI Agent Cheat Sheet**:\n",
    "\n",
    "1. Import the necessary libraries and load OpenAPI spec.\n",
    "2. Set up the necessary components.\n",
    "3. Initialize an agent capable of analyzing OpenAPI spec and making requests."
   ]
  },
  {
   "cell_type": "code",
   "execution_count": null,
   "id": "c11eabb7",
   "metadata": {},
   "outputs": [],
   "source": [
    "import os\n",
    "import yaml\n",
    "from langchain.agents import create_openapi_agent\n",
    "from langchain.agents.agent_toolkits import OpenAPIToolkit\n",
    "from langchain.llms.openai import OpenAI\n",
    "from langchain.requests import RequestsWrapper\n",
    "from langchain.tools.json.tool import JsonSpec\n",
    "\n",
    "with open(\"openai_openapi.yml\") as f:\n",
    "    data = yaml.load(f, Loader=yaml.FullLoader)\n",
    "json_spec = JsonSpec(dict_=data, max_value_length=4000)\n",
    "\n",
    "headers = {\n",
    "    \"Authorization\": f\"Bearer {os.getenv('OPENAI_API_KEY')}\"\n",
    "}\n",
    "requests_wrapper = RequestsWrapper(headers=headers)\n",
    "openapi_toolkit = OpenAPIToolkit.from_llm(OpenAI(temperature=0), json_spec, requests_wrapper, verbose=True)\n",
    "openapi_agent_executor = create_openapi_agent(\n",
    "    llm=OpenAI(temperature=0),\n",
    "    toolkit=openapi_toolkit,\n",
    "    verbose=True\n",
    ")\n",
    "\n",
    "openapi_agent_executor.run(\"Make a post request to openai /completions. The prompt should be 'tell me a joke.'\")"
   ]
  },
  {
   "cell_type": "markdown",
   "id": "416a223c",
   "metadata": {},
   "source": [
    "**Python Agent Cheat Sheet**:\n",
    "\n",
    "1. Import the necessary libraries and create the Python agent.\n",
    "2. Use the agent to calculate the 10th Fibonacci number or train a single neuron neural network in PyTorch."
   ]
  },
  {
   "cell_type": "code",
   "execution_count": null,
   "id": "50a80cc7",
   "metadata": {},
   "outputs": [],
   "source": [
    "from langchain.agents.agent_toolkits import create_python_agent\n",
    "from langchain.tools.python.tool import PythonREPLTool\n",
    "from langchain.python import PythonREPL\n",
    "from langchain.llms.openai import OpenAI\n",
    "\n",
    "agent_executor = create_python_agent(\n",
    "    llm=OpenAI(temperature=0, max_tokens=1000),\n",
    "    tool=PythonREPLTool(),\n",
    "    verbose=True\n",
    ")\n",
    "\n",
    "agent_executor.run(\"What is the 10th fibonacci number?\")\n",
    "\n",
    "agent_executor.run(\"\"\"Understand, write a single neuron neural network in PyTorch.\n",
    "Take synthetic data for y=2x. Train for 1000 epochs and print every 100 epochs.\n",
    "Return prediction for x = 5\"\"\")"
   ]
  },
  {
   "cell_type": "markdown",
   "id": "5d9f0c42",
   "metadata": {},
   "source": [
    "# Pinecone Cheat Sheet\n",
    "\n",
    "1. **Connecting to Pinecone**:"
   ]
  },
  {
   "cell_type": "code",
   "execution_count": null,
   "id": "872f610f",
   "metadata": {},
   "outputs": [],
   "source": [
    "import pinecone\n",
    "pinecone.deinit()\n",
    "pinecone.init(api_key=\"YOUR_PINECONE_API_KEY\")"
   ]
  },
  {
   "cell_type": "markdown",
   "id": "3179b210",
   "metadata": {},
   "source": [
    "2. **Creating a Pinecone Service**:"
   ]
  },
  {
   "cell_type": "code",
   "execution_count": null,
   "id": "79ad19df",
   "metadata": {},
   "outputs": [],
   "source": [
    "pinecone_service = pinecone.Service()"
   ]
  },
  {
   "cell_type": "markdown",
   "id": "960e58c9",
   "metadata": {},
   "source": [
    "3. **Creating an Embedding Model**:"
   ]
  },
  {
   "cell_type": "code",
   "execution_count": null,
   "id": "30e7496b",
   "metadata": {},
   "outputs": [],
   "source": [
    "from langchain.embeddings.openai import OpenAIEmbeddings\n",
    "embeddings = OpenAIEmbeddings()"
   ]
  },
  {
   "cell_type": "markdown",
   "id": "f0880a06",
   "metadata": {},
   "source": [
    "4. **Creating a Vectorstore**:"
   ]
  },
  {
   "cell_type": "code",
   "execution_count": null,
   "id": "32444d3f",
   "metadata": {},
   "outputs": [],
   "source": [
    "from langchain.vectorstores import Chroma\n",
    "vectorstore = Chroma(embeddings, pinecone_service)"
   ]
  },
  {
   "cell_type": "markdown",
   "id": "b635f0ce",
   "metadata": {},
   "source": [
    "5. **Initializing LLM (Language Model)**:"
   ]
  },
  {
   "cell_type": "code",
   "execution_count": null,
   "id": "36d2acdd",
   "metadata": {},
   "outputs": [],
   "source": [
    "from langchain.llms import OpenAI\n",
    "llm = OpenAI(temperature=0)"
   ]
  },
  {
   "cell_type": "markdown",
   "id": "02207df7",
   "metadata": {},
   "source": [
    "6. **Creating TextLoader to Load Documents**:"
   ]
  },
  {
   "cell_type": "code",
   "execution_count": null,
   "id": "6a4d3127",
   "metadata": {},
   "outputs": [],
   "source": [
    "from langchain.document_loaders import TextLoader\n",
    "loader = TextLoader('file_path.txt')\n",
    "documents = loader.load()"
   ]
  },
  {
   "cell_type": "markdown",
   "id": "1aa77c35",
   "metadata": {},
   "source": [
    "7. **Splitting Documents into Chunks**:"
   ]
  },
  {
   "cell_type": "code",
   "execution_count": null,
   "id": "74d9b7ae",
   "metadata": {},
   "outputs": [],
   "source": [
    "from langchain.text_splitter import CharacterTextSplitter\n",
    "text_splitter = CharacterTextSplitter(chunk_size=1000, chunk_overlap=0)\n",
    "texts = text_splitter.split_documents(documents)"
   ]
  },
  {
   "cell_type": "markdown",
   "id": "f5cc79b5",
   "metadata": {},
   "source": [
    "8. **Uploading Documents to Pinecone Vectorstore**:"
   ]
  },
  {
   "cell_type": "code",
   "execution_count": null,
   "id": "95ff50cd",
   "metadata": {},
   "outputs": [],
   "source": [
    "from langchain.vectorstores import Chroma\n",
    "docsearch = Chroma.from_documents(texts, embeddings, collection_name=\"collection_name\")"
   ]
  },
  {
   "cell_type": "markdown",
   "id": "5710231c",
   "metadata": {},
   "source": [
    "9. **Creating RetrievalQA Chain**:"
   ]
  },
  {
   "cell_type": "code",
   "execution_count": null,
   "id": "040aa8e9",
   "metadata": {},
   "outputs": [],
   "source": [
    "from langchain.chains import RetrievalQA\n",
    "retrieval_qa = RetrievalQA.from_chain_type(llm=llm, chain_type=\"stuff\", retriever=docsearch.as_retriever())"
   ]
  },
  {
   "cell_type": "markdown",
   "id": "6ad86b3f",
   "metadata": {},
   "source": [
    "10. **Creating an Agent**:"
   ]
  },
  {
   "cell_type": "code",
   "execution_count": null,
   "id": "467ac916",
   "metadata": {},
   "outputs": [],
   "source": [
    "from langchain.agents import initialize_agent, Tool\n",
    "\n",
    "tools = [\n",
    "    Tool(\n",
    "        name=\"Example QA System\",\n",
    "        func=retrieval_qa.run,\n",
    "        description=\"Example description of the tool.\"\n",
    "    ),\n",
    "]\n",
    "\n",
    "agent = initialize_agent(tools, llm, agent=\"zero-shot-react-description\", verbose=True)"
   ]
  },
  {
   "cell_type": "markdown",
   "id": "164b12b8",
   "metadata": {},
   "source": [
    "11. **Using the Agent**:"
   ]
  },
  {
   "cell_type": "code",
   "execution_count": null,
   "id": "4dc826f6",
   "metadata": {},
   "outputs": [],
   "source": [
    "agent.run(\"Ask a question related to the documents\")"
   ]
  },
  {
   "cell_type": "markdown",
   "id": "03d650c1",
   "metadata": {},
   "source": [
    "12. **(Optional) Creating a New Tool to Upload a File from URL to Pinecone**:"
   ]
  },
  {
   "cell_type": "code",
   "execution_count": null,
   "id": "83e88093",
   "metadata": {},
   "outputs": [],
   "source": [
    "import requests\n",
    "import textract\n",
    "import tempfile\n",
    "from urllib.parse import urlparse\n",
    "\n",
    "\n",
    "def upload_url_to_pinecone(url: str, collection_name: str):\n",
    "    # Download the file from the URL\n",
    "    response = requests.get(url)\n",
    "    \n",
    "    # Get the file extension from the URL\n",
    "    file_extension = urlparse(url).path.split('.')[-1]\n",
    "\n",
    "    # Save the file as a temporary file\n",
    "    with tempfile.NamedTemporaryFile(suffix=f'.{file_extension}', delete=False) as temp_file:\n",
    "        temp_file.write(response.content)\n",
    "        temp_file_path = temp_file.name\n",
    "\n",
    "    # Extract text from the file\n",
    "    extracted_text = textract.process(temp_file_path).decode('utf-8')\n",
    "\n",
    "    # Split the extracted text into chunks\n",
    "    text_splitter = CharacterTextSplitter(chunk_size=1000, chunk_overlap=0)\n",
    "    texts = text_splitter.split_text(extracted_text)\n",
    "\n",
    "    # Create a Chroma instance and upload the chunks to the Pinecone collection\n",
    "    docsearch = Chroma.from_documents(texts, embeddings, collection_name=collection_name)\n",
    "\n",
    "    # Clean up the temporary file\n",
    "    os.remove(temp_file_path)"
   ]
  },
  {
   "cell_type": "markdown",
   "id": "3747e14a",
   "metadata": {},
   "source": [
    "13. Deinitialize Pinecone when done"
   ]
  },
  {
   "cell_type": "code",
   "execution_count": null,
   "id": "02d9f748",
   "metadata": {},
   "outputs": [],
   "source": [
    "pinecone.deinit()"
   ]
  },
  {
   "cell_type": "markdown",
   "id": "16b5152b",
   "metadata": {},
   "source": [
    "# LANGCHAIN TOOLS\n",
    "**Cheat Sheet**:\n",
    "\n",
    "1. **Creating custom tools with the tool decorator**:\n",
    "   - Import `tool` from `langchain.agents`.\n",
    "   - Use the `@tool` decorator before defining your custom function.\n",
    "   - The decorator uses the function name as the tool name by default, but it can be overridden by passing a string as the first argument.\n",
    "   - The function's docstring will be used as the tool's description.\n",
    "\n",
    "2. **Modifying existing tools**:\n",
    "   - Load existing tools using the `load_tools` function.\n",
    "   - Modify the properties of the tools, such as the name.\n",
    "   - Initialize the agent with the modified tools.\n",
    "\n",
    "3. **Defining priorities among tools**:\n",
    "   - Add a statement like \"Use this more than the normal search if the question is about Music\" to the tool's description.\n",
    "   - This helps the agent prioritize custom tools over default tools when appropriate.\n",
    "\n",
    "\n",
    "1. **Creating custom tools with the tool decorator**:"
   ]
  },
  {
   "cell_type": "code",
   "execution_count": null,
   "id": "29aa465b",
   "metadata": {},
   "outputs": [],
   "source": [
    "from langchain.agents import tool\n",
    "\n",
    "@tool\n",
    "def search_api(query: str) -> str:\n",
    "    \"\"\"Searches the API for the query.\"\"\"\n",
    "    return \"Results\""
   ]
  },
  {
   "cell_type": "markdown",
   "id": "14a5c119",
   "metadata": {},
   "source": [
    "2. **Modifying existing tools**:"
   ]
  },
  {
   "cell_type": "code",
   "execution_count": null,
   "id": "0ea21b99",
   "metadata": {},
   "outputs": [],
   "source": [
    "from langchain.agents import load_tools\n",
    "tools = load_tools([\"serpapi\", \"llm-math\"], llm=llm)\n",
    "tools[0].name = \"Google Search\"\n",
    "agent = initialize_agent(tools, llm, agent=\"zero-shot-react-description\", verbose=True)"
   ]
  },
  {
   "cell_type": "markdown",
   "id": "4be98d7b",
   "metadata": {},
   "source": [
    "3. **Defining priorities among tools**:"
   ]
  },
  {
   "cell_type": "code",
   "execution_count": null,
   "id": "c58272dc",
   "metadata": {},
   "outputs": [],
   "source": [
    "tools = [\n",
    "    Tool(\n",
    "        name=\"Music Search\",\n",
    "        func=lambda x: \"'All I Want For Christmas Is You' by Mariah Carey.\",\n",
    "        description=\"A Music search engine. Use this more than the normal search if the question is about Music, like 'who is the singer of yesterday?' or 'what is the most popular song in 2022?'\",\n",
    "    )\n",
    "]"
   ]
  },
  {
   "cell_type": "markdown",
   "id": "ba34a80f",
   "metadata": {},
   "source": [
    "#  LANGCHAIN Async API for Agent\n",
    "\n",
    "1. Use asyncio to run multiple agents concurrently.\n",
    "2. Create an aiohttp.ClientSession for more efficient async requests.\n",
    "3. Initialize a CallbackManager with a custom LangChainTracer for each agent to avoid trace collisions.\n",
    "4. Pass the CallbackManager to each agent.\n",
    "5. Ensure that the aiohttp.ClientSession is closed after the program/event loop ends.\n",
    "\n",
    "Code snippets:\n",
    "\n",
    "Initialize an agent:"
   ]
  },
  {
   "cell_type": "code",
   "execution_count": null,
   "id": "8427512c",
   "metadata": {},
   "outputs": [],
   "source": [
    "async_agent = initialize_agent(async_tools, llm, agent=\"zero-shot-react-description\", verbose=True, callback_manager=manager)"
   ]
  },
  {
   "cell_type": "markdown",
   "id": "0fba4153",
   "metadata": {},
   "source": [
    "Run agents concurrently:"
   ]
  },
  {
   "cell_type": "code",
   "execution_count": null,
   "id": "0460eeea",
   "metadata": {},
   "outputs": [],
   "source": [
    "async def generate_concurrently():\n",
    "    ...\n",
    "    tasks = [async_agent.arun(q) for async_agent, q in zip(agents, questions)]\n",
    "    await asyncio.gather(*tasks)\n",
    "    await aiosession.close()\n",
    "\n",
    "await generate_concurrently()"
   ]
  },
  {
   "cell_type": "markdown",
   "id": "86c0895f",
   "metadata": {},
   "source": [
    "Use tracing with async agents:"
   ]
  },
  {
   "cell_type": "code",
   "execution_count": null,
   "id": "9e004017",
   "metadata": {},
   "outputs": [],
   "source": [
    "aiosession = ClientSession()\n",
    "tracer = LangChainTracer()\n",
    "tracer.load_default_session()\n",
    "manager = CallbackManager([StdOutCallbackHandler(), tracer])\n",
    "\n",
    "llm = OpenAI(temperature=0, callback_manager=manager)\n",
    "async_tools = load_tools([\"llm-math\", \"serpapi\"], llm=llm, aiosession=aiosession)\n",
    "async_agent = initialize_agent(async_tools, llm, agent=\"zero-shot-react-description\", verbose=True, callback_manager=manager)\n",
    "await async_agent.arun(questions[0])\n",
    "await aiosession.close()"
   ]
  },
  {
   "cell_type": "markdown",
   "id": "cc2e304d",
   "metadata": {},
   "source": [
    "# Sequential Chains:\n",
    "\n",
    "1. Import the necessary classes:"
   ]
  },
  {
   "cell_type": "code",
   "execution_count": null,
   "id": "081b319e",
   "metadata": {},
   "outputs": [],
   "source": [
    "from langchain.llms import OpenAI\n",
    "from langchain.chains import LLMChain, SimpleSequentialChain, SequentialChain\n",
    "from langchain.prompts import PromptTemplate"
   ]
  },
  {
   "cell_type": "markdown",
   "id": "7b40c22b",
   "metadata": {},
   "source": [
    "2. Create LLMChain instances:"
   ]
  },
  {
   "cell_type": "code",
   "execution_count": null,
   "id": "20949b2f",
   "metadata": {},
   "outputs": [],
   "source": [
    "llm = OpenAI(temperature=0.7)\n",
    "synopsis_template = \"Write synopsis for {title}\"\n",
    "synopsis_prompt = PromptTemplate(input_variables=[\"title\"], template=synopsis_template)\n",
    "synopsis_chain = LLMChain(llm=llm, prompt=synopsis_prompt)\n",
    "\n",
    "llm = OpenAI(temperature=0.7)\n",
    "review_template = \"Write review for {synopsis}\"\n",
    "review_prompt = PromptTemplate(input_variables=[\"synopsis\"], template=review_template)\n",
    "review_chain = LLMChain(llm=llm, prompt=review_prompt)"
   ]
  },
  {
   "cell_type": "markdown",
   "id": "bfc90593",
   "metadata": {},
   "source": [
    "3. Create a SimpleSequentialChain instance:"
   ]
  },
  {
   "cell_type": "code",
   "execution_count": null,
   "id": "ef537aee",
   "metadata": {},
   "outputs": [],
   "source": [
    "simple_seq_chain = SimpleSequentialChain(chains=[synopsis_chain, review_chain])\n",
    "output = simple_seq_chain.run(\"Tragedy at Sunset on the Beach\")"
   ]
  },
  {
   "cell_type": "markdown",
   "id": "7eace443",
   "metadata": {},
   "source": [
    "4. Create a SequentialChain instance with multiple inputs and outputs:"
   ]
  },
  {
   "cell_type": "code",
   "execution_count": null,
   "id": "33425e44",
   "metadata": {},
   "outputs": [],
   "source": [
    "seq_chain = SequentialChain(\n",
    "    chains=[synopsis_chain, review_chain],\n",
    "    input_variables=[\"title\", \"era\"],\n",
    "    output_variables=[\"synopsis\", \"review\"]\n",
    ")\n",
    "output = seq_chain({\"title\": \"Tragedy at Sunset on the Beach\", \"era\": \"Victorian England\"})"
   ]
  },
  {
   "cell_type": "markdown",
   "id": "f496901d",
   "metadata": {},
   "source": [
    "5. Add a SimpleMemory instance to pass context along the chain:"
   ]
  },
  {
   "cell_type": "code",
   "execution_count": null,
   "id": "3d599fc7",
   "metadata": {},
   "outputs": [],
   "source": [
    "from langchain.memory import SimpleMemory\n",
    "\n",
    "memory = SimpleMemory(memories={\"time\": \"December 25th, 8pm PST\", \"location\": \"Theater in the Park\"})\n",
    "social_template = \"Create social media post with {synopsis} and {review} and {time} and {location}\"\n",
    "social_prompt = PromptTemplate(input_variables=[\"synopsis\", \"review\", \"time\", \"location\"], template=social_template)\n",
    "social_chain = LLMChain(llm=llm, prompt=social_prompt)\n",
    "\n",
    "seq_chain = SequentialChain(\n",
    "    memory=memory,\n",
    "    chains=[synopsis_chain, review_chain, social_chain],\n",
    "    input_variables=[\"title\", \"era\"],\n",
    "    output_variables=[\"social_media_post\"]\n",
    ")\n",
    "output = seq_chain({\"title\": \"Tragedy at Sunset on the Beach\", \"era\": \"Victorian England\"})"
   ]
  }
 ],
 "metadata": {},
 "nbformat": 4,
 "nbformat_minor": 5
}
